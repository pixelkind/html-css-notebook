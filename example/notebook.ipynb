{
  "cells": [
    {
      "cell_type": "markdown",
      "metadata": {},
      "source": [
        "# Your Custom Renderer"
      ]
    },
    {
      "cell_type": "markdown",
      "metadata": {},
      "source": [
        "This is a Jupyter notebook file. Down below, we've created output as if a cell was executed and generated `text/html` output. You can use the **View: Reopen Editor With...** command to view the JSON source of this notebook and change the output data. Or, you can installed the Python extension (for example) and replace the code cell below with one that generates the output you expect"
      ]
    }
  ],
  "metadata": {
    "kernelspec": {
      "display_name": "Python 3.10.6 64-bit ('3.10.6')",
      "language": "python",
      "name": "python3"
    },
    "language_info": {
      "codemirror_mode": {
        "name": "ipython",
        "version": 3
      },
      "file_extension": ".py",
      "mimetype": "text/x-python",
      "name": "python",
      "nbconvert_exporter": "python",
      "pygments_lexer": "ipython3",
      "version": "3.10.6"
    },
    "orig_nbformat": 4,
    "vscode": {
      "interpreter": {
        "hash": "19d9a56c52c1974885dc43be2d432ba473a517c6755bd23e5c63de271eff58c9"
      }
    }
  },
  "nbformat": 4,
  "nbformat_minor": 2
}
